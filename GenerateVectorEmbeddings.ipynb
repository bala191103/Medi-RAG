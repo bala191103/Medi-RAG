{
 "cells": [
  {
   "cell_type": "code",
   "execution_count": null,
   "metadata": {},
   "outputs": [
    {
     "name": "stdout",
     "output_type": "stream",
     "text": [
      "Requirement already satisfied: transformers in c:\\users\\balaji j\\onedrive\\desktop\\rag-veda-master\\venv\\lib\\site-packages (4.55.4)\n",
      "Requirement already satisfied: huggingface_hub in c:\\users\\balaji j\\onedrive\\desktop\\rag-veda-master\\venv\\lib\\site-packages (0.34.4)\n",
      "Requirement already satisfied: filelock in c:\\users\\balaji j\\onedrive\\desktop\\rag-veda-master\\venv\\lib\\site-packages (from transformers) (3.19.1)\n",
      "Requirement already satisfied: numpy>=1.17 in c:\\users\\balaji j\\onedrive\\desktop\\rag-veda-master\\venv\\lib\\site-packages (from transformers) (2.3.2)\n",
      "Requirement already satisfied: packaging>=20.0 in c:\\users\\balaji j\\onedrive\\desktop\\rag-veda-master\\venv\\lib\\site-packages (from transformers) (24.2)\n",
      "Requirement already satisfied: pyyaml>=5.1 in c:\\users\\balaji j\\onedrive\\desktop\\rag-veda-master\\venv\\lib\\site-packages (from transformers) (6.0.2)\n",
      "Requirement already satisfied: regex!=2019.12.17 in c:\\users\\balaji j\\onedrive\\desktop\\rag-veda-master\\venv\\lib\\site-packages (from transformers) (2025.7.34)\n",
      "Requirement already satisfied: requests in c:\\users\\balaji j\\onedrive\\desktop\\rag-veda-master\\venv\\lib\\site-packages (from transformers) (2.32.5)\n",
      "Requirement already satisfied: tokenizers<0.22,>=0.21 in c:\\users\\balaji j\\onedrive\\desktop\\rag-veda-master\\venv\\lib\\site-packages (from transformers) (0.21.4)\n",
      "Requirement already satisfied: safetensors>=0.4.3 in c:\\users\\balaji j\\onedrive\\desktop\\rag-veda-master\\venv\\lib\\site-packages (from transformers) (0.6.2)\n",
      "Requirement already satisfied: tqdm>=4.27 in c:\\users\\balaji j\\onedrive\\desktop\\rag-veda-master\\venv\\lib\\site-packages (from transformers) (4.67.1)\n",
      "Requirement already satisfied: fsspec>=2023.5.0 in c:\\users\\balaji j\\onedrive\\desktop\\rag-veda-master\\venv\\lib\\site-packages (from huggingface_hub) (2025.7.0)\n",
      "Requirement already satisfied: typing-extensions>=3.7.4.3 in c:\\users\\balaji j\\onedrive\\desktop\\rag-veda-master\\venv\\lib\\site-packages (from huggingface_hub) (4.14.1)\n",
      "Requirement already satisfied: colorama in c:\\users\\balaji j\\onedrive\\desktop\\rag-veda-master\\venv\\lib\\site-packages (from tqdm>=4.27->transformers) (0.4.6)\n",
      "Requirement already satisfied: charset_normalizer<4,>=2 in c:\\users\\balaji j\\onedrive\\desktop\\rag-veda-master\\venv\\lib\\site-packages (from requests->transformers) (3.4.3)\n",
      "Requirement already satisfied: idna<4,>=2.5 in c:\\users\\balaji j\\onedrive\\desktop\\rag-veda-master\\venv\\lib\\site-packages (from requests->transformers) (3.10)\n",
      "Requirement already satisfied: urllib3<3,>=1.21.1 in c:\\users\\balaji j\\onedrive\\desktop\\rag-veda-master\\venv\\lib\\site-packages (from requests->transformers) (2.5.0)\n",
      "Requirement already satisfied: certifi>=2017.4.17 in c:\\users\\balaji j\\onedrive\\desktop\\rag-veda-master\\venv\\lib\\site-packages (from requests->transformers) (2025.8.3)\n",
      "Note: you may need to restart the kernel to use updated packages.\n",
      "Note: you may need to restart the kernel to use updated packages.\n",
      "Requirement already satisfied: langchain in c:\\users\\balaji j\\onedrive\\desktop\\rag-veda-master\\venv\\lib\\site-packages (0.3.27)\n",
      "Requirement already satisfied: transformers in c:\\users\\balaji j\\onedrive\\desktop\\rag-veda-master\\venv\\lib\\site-packages (4.55.4)\n",
      "Requirement already satisfied: huggingface_hub in c:\\users\\balaji j\\onedrive\\desktop\\rag-veda-master\\venv\\lib\\site-packages (0.34.4)\n",
      "Requirement already satisfied: langchain-core<1.0.0,>=0.3.72 in c:\\users\\balaji j\\onedrive\\desktop\\rag-veda-master\\venv\\lib\\site-packages (from langchain) (0.3.74)\n",
      "Requirement already satisfied: langchain-text-splitters<1.0.0,>=0.3.9 in c:\\users\\balaji j\\onedrive\\desktop\\rag-veda-master\\venv\\lib\\site-packages (from langchain) (0.3.9)\n",
      "Requirement already satisfied: langsmith>=0.1.17 in c:\\users\\balaji j\\onedrive\\desktop\\rag-veda-master\\venv\\lib\\site-packages (from langchain) (0.4.16)\n",
      "Requirement already satisfied: pydantic<3.0.0,>=2.7.4 in c:\\users\\balaji j\\onedrive\\desktop\\rag-veda-master\\venv\\lib\\site-packages (from langchain) (2.11.7)\n",
      "Requirement already satisfied: SQLAlchemy<3,>=1.4 in c:\\users\\balaji j\\onedrive\\desktop\\rag-veda-master\\venv\\lib\\site-packages (from langchain) (2.0.43)\n",
      "Requirement already satisfied: requests<3,>=2 in c:\\users\\balaji j\\onedrive\\desktop\\rag-veda-master\\venv\\lib\\site-packages (from langchain) (2.32.5)\n",
      "Requirement already satisfied: PyYAML>=5.3 in c:\\users\\balaji j\\onedrive\\desktop\\rag-veda-master\\venv\\lib\\site-packages (from langchain) (6.0.2)\n",
      "Requirement already satisfied: tenacity!=8.4.0,<10.0.0,>=8.1.0 in c:\\users\\balaji j\\onedrive\\desktop\\rag-veda-master\\venv\\lib\\site-packages (from langchain-core<1.0.0,>=0.3.72->langchain) (9.1.2)\n",
      "Requirement already satisfied: jsonpatch<2.0,>=1.33 in c:\\users\\balaji j\\onedrive\\desktop\\rag-veda-master\\venv\\lib\\site-packages (from langchain-core<1.0.0,>=0.3.72->langchain) (1.33)\n",
      "Requirement already satisfied: typing-extensions>=4.7 in c:\\users\\balaji j\\onedrive\\desktop\\rag-veda-master\\venv\\lib\\site-packages (from langchain-core<1.0.0,>=0.3.72->langchain) (4.14.1)\n",
      "Requirement already satisfied: packaging>=23.2 in c:\\users\\balaji j\\onedrive\\desktop\\rag-veda-master\\venv\\lib\\site-packages (from langchain-core<1.0.0,>=0.3.72->langchain) (24.2)\n",
      "Requirement already satisfied: jsonpointer>=1.9 in c:\\users\\balaji j\\onedrive\\desktop\\rag-veda-master\\venv\\lib\\site-packages (from jsonpatch<2.0,>=1.33->langchain-core<1.0.0,>=0.3.72->langchain) (3.0.0)\n",
      "Requirement already satisfied: annotated-types>=0.6.0 in c:\\users\\balaji j\\onedrive\\desktop\\rag-veda-master\\venv\\lib\\site-packages (from pydantic<3.0.0,>=2.7.4->langchain) (0.7.0)\n",
      "Requirement already satisfied: pydantic-core==2.33.2 in c:\\users\\balaji j\\onedrive\\desktop\\rag-veda-master\\venv\\lib\\site-packages (from pydantic<3.0.0,>=2.7.4->langchain) (2.33.2)\n",
      "Requirement already satisfied: typing-inspection>=0.4.0 in c:\\users\\balaji j\\onedrive\\desktop\\rag-veda-master\\venv\\lib\\site-packages (from pydantic<3.0.0,>=2.7.4->langchain) (0.4.1)\n",
      "Requirement already satisfied: charset_normalizer<4,>=2 in c:\\users\\balaji j\\onedrive\\desktop\\rag-veda-master\\venv\\lib\\site-packages (from requests<3,>=2->langchain) (3.4.3)\n",
      "Requirement already satisfied: idna<4,>=2.5 in c:\\users\\balaji j\\onedrive\\desktop\\rag-veda-master\\venv\\lib\\site-packages (from requests<3,>=2->langchain) (3.10)\n",
      "Requirement already satisfied: urllib3<3,>=1.21.1 in c:\\users\\balaji j\\onedrive\\desktop\\rag-veda-master\\venv\\lib\\site-packages (from requests<3,>=2->langchain) (2.5.0)\n",
      "Requirement already satisfied: certifi>=2017.4.17 in c:\\users\\balaji j\\onedrive\\desktop\\rag-veda-master\\venv\\lib\\site-packages (from requests<3,>=2->langchain) (2025.8.3)\n",
      "Requirement already satisfied: greenlet>=1 in c:\\users\\balaji j\\onedrive\\desktop\\rag-veda-master\\venv\\lib\\site-packages (from SQLAlchemy<3,>=1.4->langchain) (3.2.4)\n",
      "Requirement already satisfied: filelock in c:\\users\\balaji j\\onedrive\\desktop\\rag-veda-master\\venv\\lib\\site-packages (from transformers) (3.19.1)\n",
      "Requirement already satisfied: numpy>=1.17 in c:\\users\\balaji j\\onedrive\\desktop\\rag-veda-master\\venv\\lib\\site-packages (from transformers) (2.3.2)\n",
      "Requirement already satisfied: regex!=2019.12.17 in c:\\users\\balaji j\\onedrive\\desktop\\rag-veda-master\\venv\\lib\\site-packages (from transformers) (2025.7.34)\n",
      "Requirement already satisfied: tokenizers<0.22,>=0.21 in c:\\users\\balaji j\\onedrive\\desktop\\rag-veda-master\\venv\\lib\\site-packages (from transformers) (0.21.4)\n",
      "Requirement already satisfied: safetensors>=0.4.3 in c:\\users\\balaji j\\onedrive\\desktop\\rag-veda-master\\venv\\lib\\site-packages (from transformers) (0.6.2)\n",
      "Requirement already satisfied: tqdm>=4.27 in c:\\users\\balaji j\\onedrive\\desktop\\rag-veda-master\\venv\\lib\\site-packages (from transformers) (4.67.1)\n",
      "Requirement already satisfied: fsspec>=2023.5.0 in c:\\users\\balaji j\\onedrive\\desktop\\rag-veda-master\\venv\\lib\\site-packages (from huggingface_hub) (2025.7.0)\n",
      "Requirement already satisfied: httpx<1,>=0.23.0 in c:\\users\\balaji j\\onedrive\\desktop\\rag-veda-master\\venv\\lib\\site-packages (from langsmith>=0.1.17->langchain) (0.28.1)\n",
      "Requirement already satisfied: orjson>=3.9.14 in c:\\users\\balaji j\\onedrive\\desktop\\rag-veda-master\\venv\\lib\\site-packages (from langsmith>=0.1.17->langchain) (3.11.2)\n",
      "Requirement already satisfied: requests-toolbelt>=1.0.0 in c:\\users\\balaji j\\onedrive\\desktop\\rag-veda-master\\venv\\lib\\site-packages (from langsmith>=0.1.17->langchain) (1.0.0)\n",
      "Requirement already satisfied: zstandard>=0.23.0 in c:\\users\\balaji j\\onedrive\\desktop\\rag-veda-master\\venv\\lib\\site-packages (from langsmith>=0.1.17->langchain) (0.24.0)\n",
      "Requirement already satisfied: anyio in c:\\users\\balaji j\\onedrive\\desktop\\rag-veda-master\\venv\\lib\\site-packages (from httpx<1,>=0.23.0->langsmith>=0.1.17->langchain) (4.10.0)\n",
      "Requirement already satisfied: httpcore==1.* in c:\\users\\balaji j\\onedrive\\desktop\\rag-veda-master\\venv\\lib\\site-packages (from httpx<1,>=0.23.0->langsmith>=0.1.17->langchain) (1.0.9)\n",
      "Requirement already satisfied: h11>=0.16 in c:\\users\\balaji j\\onedrive\\desktop\\rag-veda-master\\venv\\lib\\site-packages (from httpcore==1.*->httpx<1,>=0.23.0->langsmith>=0.1.17->langchain) (0.16.0)\n",
      "Requirement already satisfied: colorama in c:\\users\\balaji j\\onedrive\\desktop\\rag-veda-master\\venv\\lib\\site-packages (from tqdm>=4.27->transformers) (0.4.6)\n",
      "Requirement already satisfied: sniffio>=1.1 in c:\\users\\balaji j\\onedrive\\desktop\\rag-veda-master\\venv\\lib\\site-packages (from anyio->httpx<1,>=0.23.0->langsmith>=0.1.17->langchain) (1.3.1)\n",
      "Note: you may need to restart the kernel to use updated packages.\n",
      "Note: you may need to restart the kernel to use updated packages.\n",
      "Requirement already satisfied: openai in c:\\users\\balaji j\\onedrive\\desktop\\rag-veda-master\\venv\\lib\\site-packages (1.101.0)\n",
      "Requirement already satisfied: anyio<5,>=3.5.0 in c:\\users\\balaji j\\onedrive\\desktop\\rag-veda-master\\venv\\lib\\site-packages (from openai) (4.10.0)\n",
      "Requirement already satisfied: distro<2,>=1.7.0 in c:\\users\\balaji j\\onedrive\\desktop\\rag-veda-master\\venv\\lib\\site-packages (from openai) (1.9.0)\n",
      "Requirement already satisfied: httpx<1,>=0.23.0 in c:\\users\\balaji j\\onedrive\\desktop\\rag-veda-master\\venv\\lib\\site-packages (from openai) (0.28.1)\n",
      "Requirement already satisfied: jiter<1,>=0.4.0 in c:\\users\\balaji j\\onedrive\\desktop\\rag-veda-master\\venv\\lib\\site-packages (from openai) (0.10.0)\n",
      "Requirement already satisfied: pydantic<3,>=1.9.0 in c:\\users\\balaji j\\onedrive\\desktop\\rag-veda-master\\venv\\lib\\site-packages (from openai) (2.11.7)\n",
      "Requirement already satisfied: sniffio in c:\\users\\balaji j\\onedrive\\desktop\\rag-veda-master\\venv\\lib\\site-packages (from openai) (1.3.1)\n",
      "Requirement already satisfied: tqdm>4 in c:\\users\\balaji j\\onedrive\\desktop\\rag-veda-master\\venv\\lib\\site-packages (from openai) (4.67.1)\n",
      "Requirement already satisfied: typing-extensions<5,>=4.11 in c:\\users\\balaji j\\onedrive\\desktop\\rag-veda-master\\venv\\lib\\site-packages (from openai) (4.14.1)\n",
      "Requirement already satisfied: idna>=2.8 in c:\\users\\balaji j\\onedrive\\desktop\\rag-veda-master\\venv\\lib\\site-packages (from anyio<5,>=3.5.0->openai) (3.10)\n",
      "Requirement already satisfied: certifi in c:\\users\\balaji j\\onedrive\\desktop\\rag-veda-master\\venv\\lib\\site-packages (from httpx<1,>=0.23.0->openai) (2025.8.3)\n",
      "Requirement already satisfied: httpcore==1.* in c:\\users\\balaji j\\onedrive\\desktop\\rag-veda-master\\venv\\lib\\site-packages (from httpx<1,>=0.23.0->openai) (1.0.9)\n",
      "Requirement already satisfied: h11>=0.16 in c:\\users\\balaji j\\onedrive\\desktop\\rag-veda-master\\venv\\lib\\site-packages (from httpcore==1.*->httpx<1,>=0.23.0->openai) (0.16.0)\n",
      "Requirement already satisfied: annotated-types>=0.6.0 in c:\\users\\balaji j\\onedrive\\desktop\\rag-veda-master\\venv\\lib\\site-packages (from pydantic<3,>=1.9.0->openai) (0.7.0)\n",
      "Requirement already satisfied: pydantic-core==2.33.2 in c:\\users\\balaji j\\onedrive\\desktop\\rag-veda-master\\venv\\lib\\site-packages (from pydantic<3,>=1.9.0->openai) (2.33.2)\n",
      "Requirement already satisfied: typing-inspection>=0.4.0 in c:\\users\\balaji j\\onedrive\\desktop\\rag-veda-master\\venv\\lib\\site-packages (from pydantic<3,>=1.9.0->openai) (0.4.1)\n",
      "Requirement already satisfied: colorama in c:\\users\\balaji j\\onedrive\\desktop\\rag-veda-master\\venv\\lib\\site-packages (from tqdm>4->openai) (0.4.6)\n",
      "Note: you may need to restart the kernel to use updated packages.\n"
     ]
    },
    {
     "name": "stderr",
     "output_type": "stream",
     "text": [
      "[nltk_data] Downloading package punkt_tab to C:\\Users\\Balaji\n",
      "[nltk_data]     J\\AppData\\Roaming\\nltk_data...\n",
      "[nltk_data]   Package punkt_tab is already up-to-date!\n"
     ]
    },
    {
     "data": {
      "text/plain": [
       "True"
      ]
     },
     "execution_count": 46,
     "metadata": {},
     "output_type": "execute_result"
    }
   ],
   "source": [
    "%pip install --upgrade --quiet transformers huggingface_hub\n",
    "%pip install --upgrade --quiet pinecone-client pinecone-text pinecone-notebooks\n",
    "%pip install --quiet --upgrade langchain langchain-text-splitters langchain-community\n",
    "%pip install --quiet openai\n",
    "%pip install --quiet pytesseract pillow pdf2image\n",
    "import nltk\n",
    "nltk.download('punkt_tab')"
   ]
  },
  {
   "cell_type": "code",
   "execution_count": null,
   "id": "9d9c0c8d22901b3a",
   "metadata": {
    "ExecuteTime": {
     "end_time": "2024-12-17T13:23:29.110266Z",
     "start_time": "2024-12-17T13:23:26.535367Z"
    }
   },
   "outputs": [
    {
     "name": "stdout",
     "output_type": "stream",
     "text": [
      "Requirement already satisfied: pytesseract in c:\\users\\balaji j\\onedrive\\desktop\\rag-veda-master\\venv\\lib\\site-packages (0.3.13)\n",
      "Requirement already satisfied: pillow in c:\\users\\balaji j\\onedrive\\desktop\\rag-veda-master\\venv\\lib\\site-packages (11.3.0)\n",
      "Requirement already satisfied: pdf2image in c:\\users\\balaji j\\onedrive\\desktop\\rag-veda-master\\venv\\lib\\site-packages (1.17.0)\n",
      "Requirement already satisfied: packaging>=21.3 in c:\\users\\balaji j\\onedrive\\desktop\\rag-veda-master\\venv\\lib\\site-packages (from pytesseract) (24.2)\n",
      "Note: you may need to restart the kernel to use updated packages.\n"
     ]
    }
   ],
   "source": [
    "import os\n",
    "import re\n",
    "import pytesseract\n",
    "from pdf2image import convert_from_path\n",
    "\n",
    "from pinecone import Pinecone, ServerlessSpec\n",
    "from pinecone_text.sparse import BM25Encoder\n",
    "from langchain_huggingface import HuggingFaceEmbeddings\n",
    "from langchain_community.retrievers import PineconeHybridSearchRetriever\n",
    "\n",
    "# ✅ Load config (handles .env locally or Secrets Manager on AWS)\n",
    "from config import (\n",
    "    PINECONE_API_KEY, \n",
    "    PINECONE_INDEX_NAME,\n",
    "    HF_TOKEN\n",
    ")"
   ]
  },
  {
   "cell_type": "code",
   "execution_count": null,
   "id": "1f73745e8b7e396d",
   "metadata": {
    "ExecuteTime": {
     "end_time": "2024-12-17T13:23:44.335897Z",
     "start_time": "2024-12-17T13:23:44.322430Z"
    }
   },
   "outputs": [],
   "source": [
    "pc = Pinecone(api_key=PINECONE_API_KEY)\n",
    "\n",
    "index_name = PINECONE_INDEX_NAME\n",
    "\n",
    "# Create index if not exists\n",
    "if index_name not in pc.list_indexes().names():\n",
    "    pc.create_index(\n",
    "        name=index_name,\n",
    "        dimension=384,\n",
    "        metric=\"dotproduct\",\n",
    "        spec=ServerlessSpec(\n",
    "            cloud=\"aws\",\n",
    "            region=\"us-east-1\"   # change if you created Pinecone index in another region\n",
    "        )\n",
    "    )\n",
    "\n",
    "index = pc.Index(index_name)\n",
    "\n",
    "# HuggingFace setup\n",
    "os.environ[\"HF_TOKEN\"] = HF_TOKEN\n",
    "embeddings = HuggingFaceEmbeddings(model_name=\"all-MiniLM-L6-v2\")"
   ]
  },
  {
   "cell_type": "code",
   "execution_count": null,
   "id": "661ea2d136208d33",
   "metadata": {
    "ExecuteTime": {
     "end_time": "2024-12-17T13:23:46.772711Z",
     "start_time": "2024-12-17T13:23:45.934812Z"
    }
   },
   "outputs": [],
   "source": [
    "bm25_encoder = BM25Encoder().default()"
   ]
  },
  {
   "cell_type": "code",
   "execution_count": null,
   "id": "2965c800",
   "metadata": {},
   "outputs": [],
   "source": [
    "pytesseract.pytesseract.tesseract_cmd = r\"C:\\Program Files\\Tesseract-OCR\\tesseract.exe\"  # change path on EC2 (Linux)\n",
    "\n",
    "def clean_text(text: str) -> str:\n",
    "    \"\"\"Clean extracted text (remove extra spaces, line breaks).\"\"\"\n",
    "    return \" \".join(text.split())\n",
    "\n",
    "def extract_text_using_ocr(pdf_path: str) -> str:\n",
    "    \"\"\"Extract text from all pages of a PDF file using OCR.\"\"\"\n",
    "    images = convert_from_path(\n",
    "        pdf_path,\n",
    "        poppler_path=r\"C:\\Users\\Balaji J\\OneDrive\\Desktop\\Release-25.07.0-0\\poppler-25.07.0\\Library\\bin\"  # change path on EC2 (Linux)\n",
    "    )\n",
    "\n",
    "    total_pages = len(images)\n",
    "    all_text = []\n",
    "\n",
    "    for page_num, image in enumerate(images):\n",
    "        print(f\"Extracting text from page {page_num + 1} of {total_pages}...\")\n",
    "        page_text = pytesseract.image_to_string(image)\n",
    "        cleaned_page_text = clean_text(page_text)\n",
    "        all_text.append(cleaned_page_text)\n",
    "\n",
    "    return \"\\n\".join(all_text)"
   ]
  },
  {
   "cell_type": "code",
   "execution_count": null,
   "id": "28b0de0ace9de371",
   "metadata": {
    "ExecuteTime": {
     "end_time": "2024-12-17T13:24:06.959431Z",
     "start_time": "2024-12-17T13:24:05.077198Z"
    }
   },
   "outputs": [],
   "source": []
  },
  {
   "cell_type": "code",
   "execution_count": null,
   "id": "dca60025",
   "metadata": {},
   "outputs": [],
   "source": []
  },
  {
   "cell_type": "code",
   "execution_count": null,
   "id": "96a35845035d7f3e",
   "metadata": {
    "ExecuteTime": {
     "end_time": "2024-12-17T13:24:09.203598Z",
     "start_time": "2024-12-17T13:24:08.838373Z"
    }
   },
   "outputs": [
    {
     "data": {
      "text/plain": [
       "<pinecone.db_data.index.Index at 0x24c8b12e870>"
      ]
     },
     "execution_count": 51,
     "metadata": {},
     "output_type": "execute_result"
    }
   ],
   "source": [
    "index = pc.Index(index_name)\n",
    "index"
   ]
  },
  {
   "cell_type": "code",
   "execution_count": null,
   "id": "ea8092ac19b9ca70",
   "metadata": {
    "ExecuteTime": {
     "end_time": "2024-12-17T13:24:11.634472Z",
     "start_time": "2024-12-17T13:24:11.623508Z"
    }
   },
   "outputs": [],
   "source": []
  },
  {
   "cell_type": "code",
   "execution_count": null,
   "id": "d5e3eaf390f25ac4",
   "metadata": {
    "ExecuteTime": {
     "end_time": "2024-12-17T13:25:33.432063Z",
     "start_time": "2024-12-17T13:25:29.130234Z"
    }
   },
   "outputs": [],
   "source": []
  },
  {
   "cell_type": "code",
   "execution_count": null,
   "id": "b21a81be3880d6de",
   "metadata": {
    "ExecuteTime": {
     "end_time": "2024-12-17T13:25:54.130899Z",
     "start_time": "2024-12-17T13:25:43.338491Z"
    }
   },
   "outputs": [
    {
     "data": {
      "text/plain": [
       "<pinecone_text.sparse.bm25_encoder.BM25Encoder at 0x24c97f4c770>"
      ]
     },
     "execution_count": 54,
     "metadata": {},
     "output_type": "execute_result"
    }
   ],
   "source": []
  },
  {
   "cell_type": "markdown",
   "id": "d2def786c38d4897",
   "metadata": {},
   "source": [
    "Converting the Pdfs into text format"
   ]
  },
  {
   "cell_type": "code",
   "execution_count": null,
   "id": "803861bda5abe326",
   "metadata": {
    "ExecuteTime": {
     "end_time": "2024-12-17T13:32:19.195368Z",
     "start_time": "2024-12-17T13:32:19.189527Z"
    }
   },
   "outputs": [],
   "source": []
  },
  {
   "cell_type": "code",
   "execution_count": null,
   "id": "632b049bb993011f",
   "metadata": {
    "ExecuteTime": {
     "end_time": "2024-12-17T13:32:19.842917Z",
     "start_time": "2024-12-17T13:32:19.836547Z"
    }
   },
   "outputs": [],
   "source": []
  },
  {
   "cell_type": "code",
   "execution_count": null,
   "id": "2ecaa980be9b6702",
   "metadata": {
    "ExecuteTime": {
     "end_time": "2024-12-17T13:32:20.493069Z",
     "start_time": "2024-12-17T13:32:20.485447Z"
    }
   },
   "outputs": [],
   "source": []
  },
  {
   "cell_type": "code",
   "execution_count": null,
   "id": "bb78b7a27f90d66c",
   "metadata": {
    "ExecuteTime": {
     "end_time": "2024-12-17T13:32:21.040695Z",
     "start_time": "2024-12-17T13:32:21.032883Z"
    }
   },
   "outputs": [],
   "source": []
  },
  {
   "cell_type": "code",
   "execution_count": null,
   "id": "9f320fe945014024",
   "metadata": {
    "ExecuteTime": {
     "end_time": "2024-12-17T15:19:24.214748Z",
     "start_time": "2024-12-17T13:32:21.817017Z"
    }
   },
   "outputs": [
    {
     "name": "stdout",
     "output_type": "stream",
     "text": [
      "\n",
      "Processing file: humira.pdf...\n",
      "Extracting text from page 1 of 111...\n",
      "Extracting text from page 2 of 111...\n",
      "Extracting text from page 3 of 111...\n",
      "Extracting text from page 4 of 111...\n",
      "Extracting text from page 5 of 111...\n",
      "Extracting text from page 6 of 111...\n",
      "Extracting text from page 7 of 111...\n",
      "Extracting text from page 8 of 111...\n",
      "Extracting text from page 9 of 111...\n",
      "Extracting text from page 10 of 111...\n",
      "Extracting text from page 11 of 111...\n",
      "Extracting text from page 12 of 111...\n",
      "Extracting text from page 13 of 111...\n",
      "Extracting text from page 14 of 111...\n",
      "Extracting text from page 15 of 111...\n",
      "Extracting text from page 16 of 111...\n",
      "Extracting text from page 17 of 111...\n",
      "Extracting text from page 18 of 111...\n",
      "Extracting text from page 19 of 111...\n",
      "Extracting text from page 20 of 111...\n",
      "Extracting text from page 21 of 111...\n",
      "Extracting text from page 22 of 111...\n",
      "Extracting text from page 23 of 111...\n",
      "Extracting text from page 24 of 111...\n",
      "Extracting text from page 25 of 111...\n",
      "Extracting text from page 26 of 111...\n",
      "Extracting text from page 27 of 111...\n",
      "Extracting text from page 28 of 111...\n",
      "Extracting text from page 29 of 111...\n",
      "Extracting text from page 30 of 111...\n",
      "Extracting text from page 31 of 111...\n",
      "Extracting text from page 32 of 111...\n",
      "Extracting text from page 33 of 111...\n",
      "Extracting text from page 34 of 111...\n",
      "Extracting text from page 35 of 111...\n",
      "Extracting text from page 36 of 111...\n",
      "Extracting text from page 37 of 111...\n",
      "Extracting text from page 38 of 111...\n",
      "Extracting text from page 39 of 111...\n",
      "Extracting text from page 40 of 111...\n",
      "Extracting text from page 41 of 111...\n",
      "Extracting text from page 42 of 111...\n",
      "Extracting text from page 43 of 111...\n",
      "Extracting text from page 44 of 111...\n",
      "Extracting text from page 45 of 111...\n",
      "Extracting text from page 46 of 111...\n",
      "Extracting text from page 47 of 111...\n",
      "Extracting text from page 48 of 111...\n",
      "Extracting text from page 49 of 111...\n",
      "Extracting text from page 50 of 111...\n",
      "Extracting text from page 51 of 111...\n",
      "Extracting text from page 52 of 111...\n",
      "Extracting text from page 53 of 111...\n",
      "Extracting text from page 54 of 111...\n",
      "Extracting text from page 55 of 111...\n",
      "Extracting text from page 56 of 111...\n",
      "Extracting text from page 57 of 111...\n",
      "Extracting text from page 58 of 111...\n",
      "Extracting text from page 59 of 111...\n",
      "Extracting text from page 60 of 111...\n",
      "Extracting text from page 61 of 111...\n",
      "Extracting text from page 62 of 111...\n",
      "Extracting text from page 63 of 111...\n",
      "Extracting text from page 64 of 111...\n",
      "Extracting text from page 65 of 111...\n",
      "Extracting text from page 66 of 111...\n",
      "Extracting text from page 67 of 111...\n",
      "Extracting text from page 68 of 111...\n",
      "Extracting text from page 69 of 111...\n",
      "Extracting text from page 70 of 111...\n",
      "Extracting text from page 71 of 111...\n",
      "Extracting text from page 72 of 111...\n",
      "Extracting text from page 73 of 111...\n",
      "Extracting text from page 74 of 111...\n",
      "Extracting text from page 75 of 111...\n",
      "Extracting text from page 76 of 111...\n",
      "Extracting text from page 77 of 111...\n",
      "Extracting text from page 78 of 111...\n",
      "Extracting text from page 79 of 111...\n",
      "Extracting text from page 80 of 111...\n",
      "Extracting text from page 81 of 111...\n",
      "Extracting text from page 82 of 111...\n",
      "Extracting text from page 83 of 111...\n",
      "Extracting text from page 84 of 111...\n",
      "Extracting text from page 85 of 111...\n",
      "Extracting text from page 86 of 111...\n",
      "Extracting text from page 87 of 111...\n",
      "Extracting text from page 88 of 111...\n",
      "Extracting text from page 89 of 111...\n",
      "Extracting text from page 90 of 111...\n",
      "Extracting text from page 91 of 111...\n",
      "Extracting text from page 92 of 111...\n",
      "Extracting text from page 93 of 111...\n",
      "Extracting text from page 94 of 111...\n",
      "Extracting text from page 95 of 111...\n",
      "Extracting text from page 96 of 111...\n",
      "Extracting text from page 97 of 111...\n",
      "Extracting text from page 98 of 111...\n",
      "Extracting text from page 99 of 111...\n",
      "Extracting text from page 100 of 111...\n",
      "Extracting text from page 101 of 111...\n",
      "Extracting text from page 102 of 111...\n",
      "Extracting text from page 103 of 111...\n",
      "Extracting text from page 104 of 111...\n",
      "Extracting text from page 105 of 111...\n",
      "Extracting text from page 106 of 111...\n",
      "Extracting text from page 107 of 111...\n",
      "Extracting text from page 108 of 111...\n",
      "Extracting text from page 109 of 111...\n",
      "Extracting text from page 110 of 111...\n",
      "Extracting text from page 111 of 111...\n",
      "Text extracted and saved to: C:\\Users\\Balaji J\\OneDrive\\Desktop\\rag-veda-master\\extracted_text\\humira.txt\n",
      "\n",
      "Processing file: medicines_reference_text.pdf...\n",
      "Extracting text from page 1 of 6...\n",
      "Extracting text from page 2 of 6...\n",
      "Extracting text from page 3 of 6...\n",
      "Extracting text from page 4 of 6...\n",
      "Extracting text from page 5 of 6...\n",
      "Extracting text from page 6 of 6...\n",
      "Text extracted and saved to: C:\\Users\\Balaji J\\OneDrive\\Desktop\\rag-veda-master\\extracted_text\\medicines_reference_text.txt\n",
      "\n",
      "Processing file: rinvoq_pi.pdf...\n",
      "Extracting text from page 1 of 89...\n",
      "Extracting text from page 2 of 89...\n",
      "Extracting text from page 3 of 89...\n",
      "Extracting text from page 4 of 89...\n",
      "Extracting text from page 5 of 89...\n",
      "Extracting text from page 6 of 89...\n",
      "Extracting text from page 7 of 89...\n",
      "Extracting text from page 8 of 89...\n",
      "Extracting text from page 9 of 89...\n",
      "Extracting text from page 10 of 89...\n",
      "Extracting text from page 11 of 89...\n",
      "Extracting text from page 12 of 89...\n",
      "Extracting text from page 13 of 89...\n",
      "Extracting text from page 14 of 89...\n",
      "Extracting text from page 15 of 89...\n",
      "Extracting text from page 16 of 89...\n",
      "Extracting text from page 17 of 89...\n",
      "Extracting text from page 18 of 89...\n",
      "Extracting text from page 19 of 89...\n",
      "Extracting text from page 20 of 89...\n",
      "Extracting text from page 21 of 89...\n",
      "Extracting text from page 22 of 89...\n",
      "Extracting text from page 23 of 89...\n",
      "Extracting text from page 24 of 89...\n",
      "Extracting text from page 25 of 89...\n",
      "Extracting text from page 26 of 89...\n",
      "Extracting text from page 27 of 89...\n",
      "Extracting text from page 28 of 89...\n",
      "Extracting text from page 29 of 89...\n",
      "Extracting text from page 30 of 89...\n",
      "Extracting text from page 31 of 89...\n",
      "Extracting text from page 32 of 89...\n",
      "Extracting text from page 33 of 89...\n",
      "Extracting text from page 34 of 89...\n",
      "Extracting text from page 35 of 89...\n",
      "Extracting text from page 36 of 89...\n",
      "Extracting text from page 37 of 89...\n",
      "Extracting text from page 38 of 89...\n",
      "Extracting text from page 39 of 89...\n",
      "Extracting text from page 40 of 89...\n",
      "Extracting text from page 41 of 89...\n",
      "Extracting text from page 42 of 89...\n",
      "Extracting text from page 43 of 89...\n",
      "Extracting text from page 44 of 89...\n",
      "Extracting text from page 45 of 89...\n",
      "Extracting text from page 46 of 89...\n",
      "Extracting text from page 47 of 89...\n",
      "Extracting text from page 48 of 89...\n",
      "Extracting text from page 49 of 89...\n",
      "Extracting text from page 50 of 89...\n",
      "Extracting text from page 51 of 89...\n",
      "Extracting text from page 52 of 89...\n",
      "Extracting text from page 53 of 89...\n",
      "Extracting text from page 54 of 89...\n",
      "Extracting text from page 55 of 89...\n",
      "Extracting text from page 56 of 89...\n",
      "Extracting text from page 57 of 89...\n",
      "Extracting text from page 58 of 89...\n",
      "Extracting text from page 59 of 89...\n",
      "Extracting text from page 60 of 89...\n",
      "Extracting text from page 61 of 89...\n",
      "Extracting text from page 62 of 89...\n",
      "Extracting text from page 63 of 89...\n",
      "Extracting text from page 64 of 89...\n",
      "Extracting text from page 65 of 89...\n",
      "Extracting text from page 66 of 89...\n",
      "Extracting text from page 67 of 89...\n",
      "Extracting text from page 68 of 89...\n",
      "Extracting text from page 69 of 89...\n",
      "Extracting text from page 70 of 89...\n",
      "Extracting text from page 71 of 89...\n",
      "Extracting text from page 72 of 89...\n",
      "Extracting text from page 73 of 89...\n",
      "Extracting text from page 74 of 89...\n",
      "Extracting text from page 75 of 89...\n",
      "Extracting text from page 76 of 89...\n",
      "Extracting text from page 77 of 89...\n",
      "Extracting text from page 78 of 89...\n",
      "Extracting text from page 79 of 89...\n",
      "Extracting text from page 80 of 89...\n",
      "Extracting text from page 81 of 89...\n",
      "Extracting text from page 82 of 89...\n",
      "Extracting text from page 83 of 89...\n",
      "Extracting text from page 84 of 89...\n",
      "Extracting text from page 85 of 89...\n",
      "Extracting text from page 86 of 89...\n",
      "Extracting text from page 87 of 89...\n",
      "Extracting text from page 88 of 89...\n",
      "Extracting text from page 89 of 89...\n",
      "Text extracted and saved to: C:\\Users\\Balaji J\\OneDrive\\Desktop\\rag-veda-master\\extracted_text\\rinvoq_pi.txt\n",
      "\n",
      "Processing file: skyrizi_pi.pdf...\n",
      "Extracting text from page 1 of 80...\n",
      "Extracting text from page 2 of 80...\n",
      "Extracting text from page 3 of 80...\n",
      "Extracting text from page 4 of 80...\n",
      "Extracting text from page 5 of 80...\n",
      "Extracting text from page 6 of 80...\n",
      "Extracting text from page 7 of 80...\n",
      "Extracting text from page 8 of 80...\n",
      "Extracting text from page 9 of 80...\n",
      "Extracting text from page 10 of 80...\n",
      "Extracting text from page 11 of 80...\n",
      "Extracting text from page 12 of 80...\n",
      "Extracting text from page 13 of 80...\n",
      "Extracting text from page 14 of 80...\n",
      "Extracting text from page 15 of 80...\n",
      "Extracting text from page 16 of 80...\n",
      "Extracting text from page 17 of 80...\n",
      "Extracting text from page 18 of 80...\n",
      "Extracting text from page 19 of 80...\n",
      "Extracting text from page 20 of 80...\n",
      "Extracting text from page 21 of 80...\n",
      "Extracting text from page 22 of 80...\n",
      "Extracting text from page 23 of 80...\n",
      "Extracting text from page 24 of 80...\n",
      "Extracting text from page 25 of 80...\n",
      "Extracting text from page 26 of 80...\n",
      "Extracting text from page 27 of 80...\n",
      "Extracting text from page 28 of 80...\n",
      "Extracting text from page 29 of 80...\n",
      "Extracting text from page 30 of 80...\n",
      "Extracting text from page 31 of 80...\n",
      "Extracting text from page 32 of 80...\n",
      "Extracting text from page 33 of 80...\n",
      "Extracting text from page 34 of 80...\n",
      "Extracting text from page 35 of 80...\n",
      "Extracting text from page 36 of 80...\n",
      "Extracting text from page 37 of 80...\n",
      "Extracting text from page 38 of 80...\n",
      "Extracting text from page 39 of 80...\n",
      "Extracting text from page 40 of 80...\n",
      "Extracting text from page 41 of 80...\n",
      "Extracting text from page 42 of 80...\n",
      "Extracting text from page 43 of 80...\n",
      "Extracting text from page 44 of 80...\n",
      "Extracting text from page 45 of 80...\n",
      "Extracting text from page 46 of 80...\n",
      "Extracting text from page 47 of 80...\n",
      "Extracting text from page 48 of 80...\n",
      "Extracting text from page 49 of 80...\n",
      "Extracting text from page 50 of 80...\n",
      "Extracting text from page 51 of 80...\n",
      "Extracting text from page 52 of 80...\n",
      "Extracting text from page 53 of 80...\n",
      "Extracting text from page 54 of 80...\n",
      "Extracting text from page 55 of 80...\n",
      "Extracting text from page 56 of 80...\n",
      "Extracting text from page 57 of 80...\n",
      "Extracting text from page 58 of 80...\n",
      "Extracting text from page 59 of 80...\n",
      "Extracting text from page 60 of 80...\n",
      "Extracting text from page 61 of 80...\n",
      "Extracting text from page 62 of 80...\n",
      "Extracting text from page 63 of 80...\n",
      "Extracting text from page 64 of 80...\n",
      "Extracting text from page 65 of 80...\n",
      "Extracting text from page 66 of 80...\n",
      "Extracting text from page 67 of 80...\n",
      "Extracting text from page 68 of 80...\n",
      "Extracting text from page 69 of 80...\n",
      "Extracting text from page 70 of 80...\n",
      "Extracting text from page 71 of 80...\n",
      "Extracting text from page 72 of 80...\n",
      "Extracting text from page 73 of 80...\n",
      "Extracting text from page 74 of 80...\n",
      "Extracting text from page 75 of 80...\n",
      "Extracting text from page 76 of 80...\n",
      "Extracting text from page 77 of 80...\n",
      "Extracting text from page 78 of 80...\n",
      "Extracting text from page 79 of 80...\n",
      "Extracting text from page 80 of 80...\n",
      "Text extracted and saved to: C:\\Users\\Balaji J\\OneDrive\\Desktop\\rag-veda-master\\extracted_text\\skyrizi_pi.txt\n"
     ]
    }
   ],
   "source": []
  },
  {
   "cell_type": "code",
   "execution_count": 60,
   "id": "6a8dac37673e0497",
   "metadata": {
    "ExecuteTime": {
     "end_time": "2024-12-17T15:32:53.946652Z",
     "start_time": "2024-12-17T15:32:53.910767Z"
    }
   },
   "outputs": [],
   "source": [
    "import os\n",
    "\n",
    "all_text = \"\"\n",
    "for file_name in os.listdir(output_text_folder):\n",
    "    if file_name.endswith(\".txt\"):\n",
    "        file_path = os.path.join(output_text_folder, file_name)\n",
    "        with open(file_path, \"r\", encoding=\"utf-8\") as file:\n",
    "            all_text += file.read()\n",
    "chunk_size = 300\n",
    "sentences = [all_text[i:i + chunk_size] for i in range(0, len(all_text), chunk_size)]"
   ]
  },
  {
   "cell_type": "code",
   "execution_count": 61,
   "id": "a74c7f69772c607",
   "metadata": {
    "ExecuteTime": {
     "end_time": "2024-12-17T15:33:02.758774Z",
     "start_time": "2024-12-17T15:32:57.541879Z"
    }
   },
   "outputs": [
    {
     "name": "stderr",
     "output_type": "stream",
     "text": [
      "100%|██████████| 1976/1976 [00:01<00:00, 1420.20it/s]\n"
     ]
    }
   ],
   "source": [
    "bm25_encoder.fit(sentences)\n",
    "\n",
    "bm25_encoder.dump(\"rag-veda.json\")"
   ]
  },
  {
   "cell_type": "code",
   "execution_count": 62,
   "id": "7bfc008515b21e32",
   "metadata": {
    "ExecuteTime": {
     "end_time": "2024-12-17T15:33:05.059974Z",
     "start_time": "2024-12-17T15:33:05.027811Z"
    }
   },
   "outputs": [],
   "source": [
    "bm25_encoder = BM25Encoder().load(\"rag-veda.json\")"
   ]
  },
  {
   "cell_type": "code",
   "execution_count": 63,
   "id": "7d53dfc054acc95f",
   "metadata": {
    "ExecuteTime": {
     "end_time": "2024-12-17T15:33:07.094739Z",
     "start_time": "2024-12-17T15:33:07.086088Z"
    }
   },
   "outputs": [],
   "source": [
    "retriever = PineconeHybridSearchRetriever(embeddings=embeddings,sparse_encoder=bm25_encoder,index=index)"
   ]
  },
  {
   "cell_type": "code",
   "execution_count": 64,
   "id": "f58b273689675b44",
   "metadata": {
    "ExecuteTime": {
     "end_time": "2024-12-17T15:33:09.226323Z",
     "start_time": "2024-12-17T15:33:09.220520Z"
    }
   },
   "outputs": [
    {
     "data": {
      "text/plain": [
       "PineconeHybridSearchRetriever(embeddings=HuggingFaceEmbeddings(model_name='all-MiniLM-L6-v2', cache_folder=None, model_kwargs={}, encode_kwargs={}, query_encode_kwargs={}, multi_process=False, show_progress=False), sparse_encoder=<pinecone_text.sparse.bm25_encoder.BM25Encoder object at 0x0000024CA32234A0>, index=<pinecone.db_data.index.Index object at 0x0000024C8B12E870>)"
      ]
     },
     "execution_count": 64,
     "metadata": {},
     "output_type": "execute_result"
    }
   ],
   "source": [
    "retriever"
   ]
  },
  {
   "cell_type": "code",
   "execution_count": 65,
   "id": "1645d5ed020098d4",
   "metadata": {
    "ExecuteTime": {
     "end_time": "2024-12-17T15:38:39.559866Z",
     "start_time": "2024-12-17T15:33:11.004576Z"
    }
   },
   "outputs": [
    {
     "name": "stderr",
     "output_type": "stream",
     "text": [
      "100%|██████████| 62/62 [01:23<00:00,  1.35s/it]\n"
     ]
    }
   ],
   "source": [
    "response = retriever.add_texts(sentences)"
   ]
  }
 ],
 "metadata": {
  "kernelspec": {
   "display_name": "venv",
   "language": "python",
   "name": "python3"
  },
  "language_info": {
   "codemirror_mode": {
    "name": "ipython",
    "version": 3
   },
   "file_extension": ".py",
   "mimetype": "text/x-python",
   "name": "python",
   "nbconvert_exporter": "python",
   "pygments_lexer": "ipython3",
   "version": "3.12.1"
  }
 },
 "nbformat": 4,
 "nbformat_minor": 5
}
