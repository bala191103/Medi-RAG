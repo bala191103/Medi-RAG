{
 "cells": [
  {
   "cell_type": "code",
   "execution_count": 16,
   "metadata": {},
   "outputs": [
    {
     "name": "stdout",
     "output_type": "stream",
     "text": [
      "Note: you may need to restart the kernel to use updated packages.\n",
      "Note: you may need to restart the kernel to use updated packages.\n",
      "Note: you may need to restart the kernel to use updated packages.\n",
      "Note: you may need to restart the kernel to use updated packages.\n",
      "Note: you may need to restart the kernel to use updated packages.\n"
     ]
    },
    {
     "name": "stderr",
     "output_type": "stream",
     "text": [
      "[nltk_data] Downloading package punkt_tab to C:\\Users\\Balaji\n",
      "[nltk_data]     J\\AppData\\Roaming\\nltk_data...\n",
      "[nltk_data]   Package punkt_tab is already up-to-date!\n"
     ]
    },
    {
     "data": {
      "text/plain": [
       "True"
      ]
     },
     "execution_count": 16,
     "metadata": {},
     "output_type": "execute_result"
    }
   ],
   "source": [
    "%pip install --upgrade --quiet transformers huggingface_hub\n",
    "%pip install --upgrade --quiet pinecone-client pinecone-text pinecone-notebooks\n",
    "%pip install --quiet --upgrade langchain langchain-text-splitters langchain-community\n",
    "%pip install --quiet openai\n",
    "%pip install --quiet pytesseract pillow pdf2image\n",
    "import nltk\n",
    "nltk.download('punkt_tab')"
   ]
  },
  {
   "cell_type": "code",
   "execution_count": 24,
   "id": "9d9c0c8d22901b3a",
   "metadata": {
    "ExecuteTime": {
     "end_time": "2024-12-17T13:23:29.110266Z",
     "start_time": "2024-12-17T13:23:26.535367Z"
    }
   },
   "outputs": [],
   "source": [
    "import os\n",
    "import re\n",
    "import pytesseract\n",
    "from pdf2image import convert_from_path\n",
    "\n",
    "\n",
    "from pinecone_text.sparse import BM25Encoder\n",
    "from langchain_huggingface import HuggingFaceEmbeddings\n",
    "from langchain_community.retrievers import PineconeHybridSearchRetriever\n",
    "\n",
    "# ✅ Load config (handles .env locally or Secrets Manager on AWS)\n",
    "from config import (\n",
    "    PINECONE_API_KEY, \n",
    "    PINECONE_INDEX_NAME,\n",
    "    HF_TOKEN\n",
    ")"
   ]
  },
  {
   "cell_type": "code",
   "execution_count": null,
   "id": "b3d43b1e",
   "metadata": {},
   "outputs": [],
   "source": []
  },
  {
   "cell_type": "code",
   "execution_count": 25,
   "id": "1f73745e8b7e396d",
   "metadata": {
    "ExecuteTime": {
     "end_time": "2024-12-17T13:23:44.335897Z",
     "start_time": "2024-12-17T13:23:44.322430Z"
    }
   },
   "outputs": [],
   "source": [
    "import os\n",
    "from pinecone import Pinecone \n",
    "from langchain_huggingface import HuggingFaceEmbeddings\n",
    "from dotenv import load_dotenv\n",
    "\n",
    "# Load environment variables\n",
    "load_dotenv()\n",
    "\n",
    "HF_TOKEN = os.environ.get(\"HF_TOKEN\")\n",
    "PINECONE_API_KEY = os.environ.get(\"PINECONE_API_KEY\")\n",
    "PINECONE_INDEX_NAME = os.environ.get(\"PINECONE_INDEX_NAME\")\n",
    "\n",
    "if HF_TOKEN is None or PINECONE_API_KEY is None or PINECONE_INDEX_NAME is None:\n",
    "    raise ValueError(\"HF_TOKEN, PINECONE_API_KEY, or PINECONE_INDEX_NAME not set.\")\n",
    "\n",
    "# Set HuggingFace token\n",
    "os.environ[\"HF_TOKEN\"] = HF_TOKEN\n",
    "\n",
    "# Initialize Pinecone client\n",
    "pc = Pinecone(api_key=PINECONE_API_KEY)\n",
    "\n",
    "# Create index if it doesn't exist\n",
    "if PINECONE_INDEX_NAME not in pc.list_indexes().names():\n",
    "    pc.create_index(\n",
    "        name=PINECONE_INDEX_NAME,\n",
    "        dimension=384,\n",
    "        metric=\"dotproduct\"\n",
    "    )\n",
    "\n",
    "# Connect to the index\n",
    "index = pc.Index(PINECONE_INDEX_NAME)\n",
    "\n",
    "# HuggingFace embeddings\n",
    "embeddings = HuggingFaceEmbeddings(model_name=\"all-MiniLM-L6-v2\")\n"
   ]
  },
  {
   "cell_type": "code",
   "execution_count": 19,
   "id": "661ea2d136208d33",
   "metadata": {
    "ExecuteTime": {
     "end_time": "2024-12-17T13:23:46.772711Z",
     "start_time": "2024-12-17T13:23:45.934812Z"
    }
   },
   "outputs": [],
   "source": [
    "bm25_encoder = BM25Encoder().default()"
   ]
  },
  {
   "cell_type": "code",
   "execution_count": 20,
   "id": "2965c800",
   "metadata": {},
   "outputs": [],
   "source": [
    "pytesseract.pytesseract.tesseract_cmd = r\"C:\\Program Files\\Tesseract-OCR\\tesseract.exe\"  # change path on EC2 (Linux)\n",
    "\n",
    "def clean_text(text: str) -> str:\n",
    "    \"\"\"Clean extracted text (remove extra spaces, line breaks).\"\"\"\n",
    "    return \" \".join(text.split())\n",
    "\n",
    "def extract_text_using_ocr(pdf_path: str) -> str:\n",
    "    \"\"\"Extract text from all pages of a PDF file using OCR.\"\"\"\n",
    "    images = convert_from_path(\n",
    "        pdf_path,\n",
    "        poppler_path=r\"C:\\Users\\Balaji J\\OneDrive\\Desktop\\Release-25.07.0-0\\poppler-25.07.0\\Library\\bin\"  # change path on EC2 (Linux)\n",
    "    )\n",
    "\n",
    "    total_pages = len(images)\n",
    "    all_text = []\n",
    "\n",
    "    for page_num, image in enumerate(images):\n",
    "        print(f\"Extracting text from page {page_num + 1} of {total_pages}...\")\n",
    "        page_text = pytesseract.image_to_string(image)\n",
    "        cleaned_page_text = clean_text(page_text)\n",
    "        all_text.append(cleaned_page_text)\n",
    "\n",
    "    return \"\\n\".join(all_text)"
   ]
  },
  {
   "cell_type": "code",
   "execution_count": 21,
   "id": "28b0de0ace9de371",
   "metadata": {
    "ExecuteTime": {
     "end_time": "2024-12-17T13:24:06.959431Z",
     "start_time": "2024-12-17T13:24:05.077198Z"
    }
   },
   "outputs": [],
   "source": [
    "def process_books_folder(books_folder, output_text_folder):\n",
    "    \"\"\"\n",
    "    Loop through all PDFs in books_folder, run OCR,\n",
    "    and save extracted text into output_text_folder.\n",
    "    \"\"\"\n",
    "    if not os.path.exists(output_text_folder):\n",
    "        os.makedirs(output_text_folder)\n",
    "\n",
    "    for file_name in os.listdir(books_folder):\n",
    "        if file_name.endswith(\".pdf\"):\n",
    "            pdf_path = os.path.join(books_folder, file_name)\n",
    "            print(f\"Processing {pdf_path} ...\")\n",
    "\n",
    "            # Extract text\n",
    "            extracted_text = extract_text_using_ocr(pdf_path)\n",
    "\n",
    "            # Save to .txt\n",
    "            txt_path = os.path.join(\n",
    "                output_text_folder,\n",
    "                os.path.splitext(file_name)[0] + \".txt\"\n",
    "            )\n",
    "            with open(txt_path, \"w\", encoding=\"utf-8\") as f:\n",
    "                f.write(extracted_text)\n",
    "\n",
    "            print(f\"Saved: {txt_path}\")"
   ]
  },
  {
   "cell_type": "code",
   "execution_count": 22,
   "id": "dca60025",
   "metadata": {},
   "outputs": [
    {
     "name": "stdout",
     "output_type": "stream",
     "text": [
      "Processing C:\\Users\\Balaji J\\OneDrive\\Desktop\\rag-veda-master\\books\\humira.pdf ...\n",
      "Extracting text from page 1 of 111...\n",
      "Extracting text from page 2 of 111...\n",
      "Extracting text from page 3 of 111...\n",
      "Extracting text from page 4 of 111...\n",
      "Extracting text from page 5 of 111...\n",
      "Extracting text from page 6 of 111...\n",
      "Extracting text from page 7 of 111...\n",
      "Extracting text from page 8 of 111...\n",
      "Extracting text from page 9 of 111...\n",
      "Extracting text from page 10 of 111...\n",
      "Extracting text from page 11 of 111...\n",
      "Extracting text from page 12 of 111...\n",
      "Extracting text from page 13 of 111...\n",
      "Extracting text from page 14 of 111...\n",
      "Extracting text from page 15 of 111...\n",
      "Extracting text from page 16 of 111...\n",
      "Extracting text from page 17 of 111...\n",
      "Extracting text from page 18 of 111...\n",
      "Extracting text from page 19 of 111...\n",
      "Extracting text from page 20 of 111...\n",
      "Extracting text from page 21 of 111...\n",
      "Extracting text from page 22 of 111...\n",
      "Extracting text from page 23 of 111...\n",
      "Extracting text from page 24 of 111...\n",
      "Extracting text from page 25 of 111...\n",
      "Extracting text from page 26 of 111...\n",
      "Extracting text from page 27 of 111...\n",
      "Extracting text from page 28 of 111...\n",
      "Extracting text from page 29 of 111...\n",
      "Extracting text from page 30 of 111...\n",
      "Extracting text from page 31 of 111...\n",
      "Extracting text from page 32 of 111...\n",
      "Extracting text from page 33 of 111...\n",
      "Extracting text from page 34 of 111...\n",
      "Extracting text from page 35 of 111...\n",
      "Extracting text from page 36 of 111...\n",
      "Extracting text from page 37 of 111...\n",
      "Extracting text from page 38 of 111...\n",
      "Extracting text from page 39 of 111...\n",
      "Extracting text from page 40 of 111...\n",
      "Extracting text from page 41 of 111...\n",
      "Extracting text from page 42 of 111...\n",
      "Extracting text from page 43 of 111...\n",
      "Extracting text from page 44 of 111...\n",
      "Extracting text from page 45 of 111...\n",
      "Extracting text from page 46 of 111...\n",
      "Extracting text from page 47 of 111...\n",
      "Extracting text from page 48 of 111...\n",
      "Extracting text from page 49 of 111...\n",
      "Extracting text from page 50 of 111...\n",
      "Extracting text from page 51 of 111...\n",
      "Extracting text from page 52 of 111...\n",
      "Extracting text from page 53 of 111...\n",
      "Extracting text from page 54 of 111...\n",
      "Extracting text from page 55 of 111...\n",
      "Extracting text from page 56 of 111...\n",
      "Extracting text from page 57 of 111...\n",
      "Extracting text from page 58 of 111...\n",
      "Extracting text from page 59 of 111...\n",
      "Extracting text from page 60 of 111...\n",
      "Extracting text from page 61 of 111...\n",
      "Extracting text from page 62 of 111...\n",
      "Extracting text from page 63 of 111...\n",
      "Extracting text from page 64 of 111...\n",
      "Extracting text from page 65 of 111...\n",
      "Extracting text from page 66 of 111...\n",
      "Extracting text from page 67 of 111...\n",
      "Extracting text from page 68 of 111...\n",
      "Extracting text from page 69 of 111...\n",
      "Extracting text from page 70 of 111...\n",
      "Extracting text from page 71 of 111...\n",
      "Extracting text from page 72 of 111...\n",
      "Extracting text from page 73 of 111...\n",
      "Extracting text from page 74 of 111...\n",
      "Extracting text from page 75 of 111...\n",
      "Extracting text from page 76 of 111...\n",
      "Extracting text from page 77 of 111...\n",
      "Extracting text from page 78 of 111...\n",
      "Extracting text from page 79 of 111...\n",
      "Extracting text from page 80 of 111...\n",
      "Extracting text from page 81 of 111...\n",
      "Extracting text from page 82 of 111...\n",
      "Extracting text from page 83 of 111...\n",
      "Extracting text from page 84 of 111...\n",
      "Extracting text from page 85 of 111...\n",
      "Extracting text from page 86 of 111...\n",
      "Extracting text from page 87 of 111...\n",
      "Extracting text from page 88 of 111...\n",
      "Extracting text from page 89 of 111...\n",
      "Extracting text from page 90 of 111...\n",
      "Extracting text from page 91 of 111...\n",
      "Extracting text from page 92 of 111...\n",
      "Extracting text from page 93 of 111...\n",
      "Extracting text from page 94 of 111...\n",
      "Extracting text from page 95 of 111...\n",
      "Extracting text from page 96 of 111...\n",
      "Extracting text from page 97 of 111...\n",
      "Extracting text from page 98 of 111...\n",
      "Extracting text from page 99 of 111...\n",
      "Extracting text from page 100 of 111...\n",
      "Extracting text from page 101 of 111...\n",
      "Extracting text from page 102 of 111...\n",
      "Extracting text from page 103 of 111...\n",
      "Extracting text from page 104 of 111...\n",
      "Extracting text from page 105 of 111...\n",
      "Extracting text from page 106 of 111...\n",
      "Extracting text from page 107 of 111...\n",
      "Extracting text from page 108 of 111...\n",
      "Extracting text from page 109 of 111...\n",
      "Extracting text from page 110 of 111...\n",
      "Extracting text from page 111 of 111...\n",
      "Saved: C:\\Users\\Balaji J\\OneDrive\\Desktop\\rag-veda-master\\extracted_text\\humira.txt\n",
      "Processing C:\\Users\\Balaji J\\OneDrive\\Desktop\\rag-veda-master\\books\\medicines_reference_text.pdf ...\n",
      "Extracting text from page 1 of 6...\n",
      "Extracting text from page 2 of 6...\n",
      "Extracting text from page 3 of 6...\n",
      "Extracting text from page 4 of 6...\n",
      "Extracting text from page 5 of 6...\n",
      "Extracting text from page 6 of 6...\n",
      "Saved: C:\\Users\\Balaji J\\OneDrive\\Desktop\\rag-veda-master\\extracted_text\\medicines_reference_text.txt\n",
      "Processing C:\\Users\\Balaji J\\OneDrive\\Desktop\\rag-veda-master\\books\\rinvoq_pi.pdf ...\n",
      "Extracting text from page 1 of 89...\n",
      "Extracting text from page 2 of 89...\n",
      "Extracting text from page 3 of 89...\n",
      "Extracting text from page 4 of 89...\n",
      "Extracting text from page 5 of 89...\n",
      "Extracting text from page 6 of 89...\n",
      "Extracting text from page 7 of 89...\n",
      "Extracting text from page 8 of 89...\n",
      "Extracting text from page 9 of 89...\n",
      "Extracting text from page 10 of 89...\n",
      "Extracting text from page 11 of 89...\n",
      "Extracting text from page 12 of 89...\n",
      "Extracting text from page 13 of 89...\n",
      "Extracting text from page 14 of 89...\n",
      "Extracting text from page 15 of 89...\n",
      "Extracting text from page 16 of 89...\n",
      "Extracting text from page 17 of 89...\n",
      "Extracting text from page 18 of 89...\n",
      "Extracting text from page 19 of 89...\n",
      "Extracting text from page 20 of 89...\n",
      "Extracting text from page 21 of 89...\n",
      "Extracting text from page 22 of 89...\n",
      "Extracting text from page 23 of 89...\n",
      "Extracting text from page 24 of 89...\n",
      "Extracting text from page 25 of 89...\n",
      "Extracting text from page 26 of 89...\n",
      "Extracting text from page 27 of 89...\n",
      "Extracting text from page 28 of 89...\n",
      "Extracting text from page 29 of 89...\n",
      "Extracting text from page 30 of 89...\n",
      "Extracting text from page 31 of 89...\n",
      "Extracting text from page 32 of 89...\n",
      "Extracting text from page 33 of 89...\n",
      "Extracting text from page 34 of 89...\n",
      "Extracting text from page 35 of 89...\n",
      "Extracting text from page 36 of 89...\n",
      "Extracting text from page 37 of 89...\n",
      "Extracting text from page 38 of 89...\n",
      "Extracting text from page 39 of 89...\n",
      "Extracting text from page 40 of 89...\n",
      "Extracting text from page 41 of 89...\n",
      "Extracting text from page 42 of 89...\n",
      "Extracting text from page 43 of 89...\n",
      "Extracting text from page 44 of 89...\n",
      "Extracting text from page 45 of 89...\n",
      "Extracting text from page 46 of 89...\n",
      "Extracting text from page 47 of 89...\n",
      "Extracting text from page 48 of 89...\n",
      "Extracting text from page 49 of 89...\n",
      "Extracting text from page 50 of 89...\n",
      "Extracting text from page 51 of 89...\n",
      "Extracting text from page 52 of 89...\n",
      "Extracting text from page 53 of 89...\n",
      "Extracting text from page 54 of 89...\n",
      "Extracting text from page 55 of 89...\n",
      "Extracting text from page 56 of 89...\n",
      "Extracting text from page 57 of 89...\n",
      "Extracting text from page 58 of 89...\n",
      "Extracting text from page 59 of 89...\n",
      "Extracting text from page 60 of 89...\n",
      "Extracting text from page 61 of 89...\n",
      "Extracting text from page 62 of 89...\n",
      "Extracting text from page 63 of 89...\n",
      "Extracting text from page 64 of 89...\n",
      "Extracting text from page 65 of 89...\n",
      "Extracting text from page 66 of 89...\n",
      "Extracting text from page 67 of 89...\n",
      "Extracting text from page 68 of 89...\n",
      "Extracting text from page 69 of 89...\n",
      "Extracting text from page 70 of 89...\n",
      "Extracting text from page 71 of 89...\n",
      "Extracting text from page 72 of 89...\n",
      "Extracting text from page 73 of 89...\n",
      "Extracting text from page 74 of 89...\n",
      "Extracting text from page 75 of 89...\n",
      "Extracting text from page 76 of 89...\n",
      "Extracting text from page 77 of 89...\n",
      "Extracting text from page 78 of 89...\n",
      "Extracting text from page 79 of 89...\n",
      "Extracting text from page 80 of 89...\n",
      "Extracting text from page 81 of 89...\n",
      "Extracting text from page 82 of 89...\n",
      "Extracting text from page 83 of 89...\n",
      "Extracting text from page 84 of 89...\n",
      "Extracting text from page 85 of 89...\n",
      "Extracting text from page 86 of 89...\n",
      "Extracting text from page 87 of 89...\n",
      "Extracting text from page 88 of 89...\n",
      "Extracting text from page 89 of 89...\n",
      "Saved: C:\\Users\\Balaji J\\OneDrive\\Desktop\\rag-veda-master\\extracted_text\\rinvoq_pi.txt\n",
      "Processing C:\\Users\\Balaji J\\OneDrive\\Desktop\\rag-veda-master\\books\\skyrizi_pi.pdf ...\n",
      "Extracting text from page 1 of 80...\n",
      "Extracting text from page 2 of 80...\n",
      "Extracting text from page 3 of 80...\n",
      "Extracting text from page 4 of 80...\n",
      "Extracting text from page 5 of 80...\n",
      "Extracting text from page 6 of 80...\n",
      "Extracting text from page 7 of 80...\n",
      "Extracting text from page 8 of 80...\n",
      "Extracting text from page 9 of 80...\n",
      "Extracting text from page 10 of 80...\n",
      "Extracting text from page 11 of 80...\n",
      "Extracting text from page 12 of 80...\n",
      "Extracting text from page 13 of 80...\n",
      "Extracting text from page 14 of 80...\n",
      "Extracting text from page 15 of 80...\n",
      "Extracting text from page 16 of 80...\n",
      "Extracting text from page 17 of 80...\n",
      "Extracting text from page 18 of 80...\n",
      "Extracting text from page 19 of 80...\n",
      "Extracting text from page 20 of 80...\n",
      "Extracting text from page 21 of 80...\n",
      "Extracting text from page 22 of 80...\n",
      "Extracting text from page 23 of 80...\n",
      "Extracting text from page 24 of 80...\n",
      "Extracting text from page 25 of 80...\n",
      "Extracting text from page 26 of 80...\n",
      "Extracting text from page 27 of 80...\n",
      "Extracting text from page 28 of 80...\n",
      "Extracting text from page 29 of 80...\n",
      "Extracting text from page 30 of 80...\n",
      "Extracting text from page 31 of 80...\n",
      "Extracting text from page 32 of 80...\n",
      "Extracting text from page 33 of 80...\n",
      "Extracting text from page 34 of 80...\n",
      "Extracting text from page 35 of 80...\n",
      "Extracting text from page 36 of 80...\n",
      "Extracting text from page 37 of 80...\n",
      "Extracting text from page 38 of 80...\n",
      "Extracting text from page 39 of 80...\n",
      "Extracting text from page 40 of 80...\n",
      "Extracting text from page 41 of 80...\n",
      "Extracting text from page 42 of 80...\n",
      "Extracting text from page 43 of 80...\n",
      "Extracting text from page 44 of 80...\n",
      "Extracting text from page 45 of 80...\n",
      "Extracting text from page 46 of 80...\n",
      "Extracting text from page 47 of 80...\n",
      "Extracting text from page 48 of 80...\n",
      "Extracting text from page 49 of 80...\n",
      "Extracting text from page 50 of 80...\n",
      "Extracting text from page 51 of 80...\n",
      "Extracting text from page 52 of 80...\n",
      "Extracting text from page 53 of 80...\n",
      "Extracting text from page 54 of 80...\n",
      "Extracting text from page 55 of 80...\n",
      "Extracting text from page 56 of 80...\n",
      "Extracting text from page 57 of 80...\n",
      "Extracting text from page 58 of 80...\n",
      "Extracting text from page 59 of 80...\n",
      "Extracting text from page 60 of 80...\n",
      "Extracting text from page 61 of 80...\n",
      "Extracting text from page 62 of 80...\n",
      "Extracting text from page 63 of 80...\n",
      "Extracting text from page 64 of 80...\n",
      "Extracting text from page 65 of 80...\n",
      "Extracting text from page 66 of 80...\n",
      "Extracting text from page 67 of 80...\n",
      "Extracting text from page 68 of 80...\n",
      "Extracting text from page 69 of 80...\n",
      "Extracting text from page 70 of 80...\n",
      "Extracting text from page 71 of 80...\n",
      "Extracting text from page 72 of 80...\n",
      "Extracting text from page 73 of 80...\n",
      "Extracting text from page 74 of 80...\n",
      "Extracting text from page 75 of 80...\n",
      "Extracting text from page 76 of 80...\n",
      "Extracting text from page 77 of 80...\n",
      "Extracting text from page 78 of 80...\n",
      "Extracting text from page 79 of 80...\n",
      "Extracting text from page 80 of 80...\n",
      "Saved: C:\\Users\\Balaji J\\OneDrive\\Desktop\\rag-veda-master\\extracted_text\\skyrizi_pi.txt\n"
     ]
    },
    {
     "name": "stderr",
     "output_type": "stream",
     "text": [
      "100%|██████████| 1318/1318 [00:01<00:00, 878.10it/s]\n",
      "100%|██████████| 42/42 [01:31<00:00,  2.18s/it]\n"
     ]
    }
   ],
   "source": [
    "books_folder = r\"C:\\Users\\Balaji J\\OneDrive\\Desktop\\rag-veda-master\\books\"\n",
    "output_text_folder = r\"C:\\Users\\Balaji J\\OneDrive\\Desktop\\rag-veda-master\\extracted_text\"\n",
    "\n",
    "process_books_folder(books_folder, output_text_folder)\n",
    "\n",
    "# --- Now load all .txt, chunk, embed, push to Pinecone ---\n",
    "all_text = \"\"\n",
    "for file_name in os.listdir(output_text_folder):\n",
    "    if file_name.endswith(\".txt\"):\n",
    "        file_path = os.path.join(output_text_folder, file_name)\n",
    "        with open(file_path, \"r\", encoding=\"utf-8\") as file:\n",
    "            all_text += file.read()\n",
    "\n",
    "chunk_size = 500\n",
    "overlap = 50\n",
    "sentences = [all_text[i:i + chunk_size] for i in range(0, len(all_text), chunk_size - overlap)]\n",
    "\n",
    "\n",
    "# Fit BM25\n",
    "bm25_encoder.fit(sentences)\n",
    "bm25_encoder.dump(\"rag-veda.json\")\n",
    "\n",
    "# Reload and create retriever\n",
    "bm25_encoder = BM25Encoder().load(\"rag-veda.json\")\n",
    "retriever = PineconeHybridSearchRetriever(\n",
    "    embeddings=embeddings,\n",
    "    sparse_encoder=bm25_encoder,\n",
    "    index=index\n",
    ")\n",
    "retriever.add_texts(sentences)"
   ]
  },
  {
   "cell_type": "code",
   "execution_count": 23,
   "id": "96a35845035d7f3e",
   "metadata": {
    "ExecuteTime": {
     "end_time": "2024-12-17T13:24:09.203598Z",
     "start_time": "2024-12-17T13:24:08.838373Z"
    }
   },
   "outputs": [
    {
     "data": {
      "text/plain": [
       "<pinecone.db_data.index.Index at 0x165eae63ad0>"
      ]
     },
     "execution_count": 23,
     "metadata": {},
     "output_type": "execute_result"
    }
   ],
   "source": [
    "# Make sure index_name exists\n",
    "index_name = PINECONE_INDEX_NAME\n",
    "index = pc.Index(index_name)\n",
    "index  # now this will work\n"
   ]
  },
  {
   "cell_type": "code",
   "execution_count": null,
   "id": "ea8092ac19b9ca70",
   "metadata": {
    "ExecuteTime": {
     "end_time": "2024-12-17T13:24:11.634472Z",
     "start_time": "2024-12-17T13:24:11.623508Z"
    }
   },
   "outputs": [],
   "source": []
  },
  {
   "cell_type": "code",
   "execution_count": null,
   "id": "d5e3eaf390f25ac4",
   "metadata": {
    "ExecuteTime": {
     "end_time": "2024-12-17T13:25:33.432063Z",
     "start_time": "2024-12-17T13:25:29.130234Z"
    }
   },
   "outputs": [],
   "source": []
  },
  {
   "cell_type": "code",
   "execution_count": null,
   "id": "b21a81be3880d6de",
   "metadata": {
    "ExecuteTime": {
     "end_time": "2024-12-17T13:25:54.130899Z",
     "start_time": "2024-12-17T13:25:43.338491Z"
    }
   },
   "outputs": [],
   "source": []
  },
  {
   "cell_type": "markdown",
   "id": "d2def786c38d4897",
   "metadata": {},
   "source": [
    "Converting the Pdfs into text format"
   ]
  },
  {
   "cell_type": "code",
   "execution_count": null,
   "id": "803861bda5abe326",
   "metadata": {
    "ExecuteTime": {
     "end_time": "2024-12-17T13:32:19.195368Z",
     "start_time": "2024-12-17T13:32:19.189527Z"
    }
   },
   "outputs": [],
   "source": []
  },
  {
   "cell_type": "code",
   "execution_count": null,
   "id": "632b049bb993011f",
   "metadata": {
    "ExecuteTime": {
     "end_time": "2024-12-17T13:32:19.842917Z",
     "start_time": "2024-12-17T13:32:19.836547Z"
    }
   },
   "outputs": [],
   "source": []
  },
  {
   "cell_type": "code",
   "execution_count": null,
   "id": "2ecaa980be9b6702",
   "metadata": {
    "ExecuteTime": {
     "end_time": "2024-12-17T13:32:20.493069Z",
     "start_time": "2024-12-17T13:32:20.485447Z"
    }
   },
   "outputs": [],
   "source": []
  },
  {
   "cell_type": "code",
   "execution_count": null,
   "id": "bb78b7a27f90d66c",
   "metadata": {
    "ExecuteTime": {
     "end_time": "2024-12-17T13:32:21.040695Z",
     "start_time": "2024-12-17T13:32:21.032883Z"
    }
   },
   "outputs": [],
   "source": []
  },
  {
   "cell_type": "code",
   "execution_count": null,
   "id": "9f320fe945014024",
   "metadata": {
    "ExecuteTime": {
     "end_time": "2024-12-17T15:19:24.214748Z",
     "start_time": "2024-12-17T13:32:21.817017Z"
    }
   },
   "outputs": [],
   "source": []
  },
  {
   "cell_type": "code",
   "execution_count": null,
   "id": "6a8dac37673e0497",
   "metadata": {
    "ExecuteTime": {
     "end_time": "2024-12-17T15:32:53.946652Z",
     "start_time": "2024-12-17T15:32:53.910767Z"
    }
   },
   "outputs": [],
   "source": []
  },
  {
   "cell_type": "code",
   "execution_count": null,
   "id": "a74c7f69772c607",
   "metadata": {
    "ExecuteTime": {
     "end_time": "2024-12-17T15:33:02.758774Z",
     "start_time": "2024-12-17T15:32:57.541879Z"
    }
   },
   "outputs": [],
   "source": []
  },
  {
   "cell_type": "code",
   "execution_count": null,
   "id": "7bfc008515b21e32",
   "metadata": {
    "ExecuteTime": {
     "end_time": "2024-12-17T15:33:05.059974Z",
     "start_time": "2024-12-17T15:33:05.027811Z"
    }
   },
   "outputs": [],
   "source": []
  },
  {
   "cell_type": "code",
   "execution_count": null,
   "id": "7d53dfc054acc95f",
   "metadata": {
    "ExecuteTime": {
     "end_time": "2024-12-17T15:33:07.094739Z",
     "start_time": "2024-12-17T15:33:07.086088Z"
    }
   },
   "outputs": [],
   "source": []
  },
  {
   "cell_type": "code",
   "execution_count": null,
   "id": "f58b273689675b44",
   "metadata": {
    "ExecuteTime": {
     "end_time": "2024-12-17T15:33:09.226323Z",
     "start_time": "2024-12-17T15:33:09.220520Z"
    }
   },
   "outputs": [],
   "source": []
  },
  {
   "cell_type": "code",
   "execution_count": null,
   "id": "1645d5ed020098d4",
   "metadata": {
    "ExecuteTime": {
     "end_time": "2024-12-17T15:38:39.559866Z",
     "start_time": "2024-12-17T15:33:11.004576Z"
    }
   },
   "outputs": [],
   "source": []
  }
 ],
 "metadata": {
  "kernelspec": {
   "display_name": "venv",
   "language": "python",
   "name": "python3"
  },
  "language_info": {
   "codemirror_mode": {
    "name": "ipython",
    "version": 3
   },
   "file_extension": ".py",
   "mimetype": "text/x-python",
   "name": "python",
   "nbconvert_exporter": "python",
   "pygments_lexer": "ipython3",
   "version": "3.12.1"
  }
 },
 "nbformat": 4,
 "nbformat_minor": 5
}
